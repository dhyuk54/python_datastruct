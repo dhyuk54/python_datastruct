{
 "cells": [
  {
   "cell_type": "code",
   "execution_count": 1,
   "metadata": {
    "collapsed": true,
    "pycharm": {
     "name": "#%%\n"
    }
   },
   "outputs": [
    {
     "name": "stdout",
     "output_type": "stream",
     "text": [
      "   A  B\n",
      "0  0  1\n",
      "1  2  3\n",
      "2  4  5\n",
      "3  6  7\n",
      "4  8  9\n",
      "       A      B\n",
      "0   True  False\n",
      "1  False   True\n",
      "2  False  False\n",
      "3   True  False\n",
      "4  False   True\n",
      "   A  B\n",
      "0  0 -1\n",
      "1 -2  3\n",
      "2 -4 -5\n",
      "3  6 -7\n",
      "4 -8  9\n",
      "   A  B\n",
      "0  0  1\n",
      "1  2 -3\n",
      "2  4  5\n",
      "3 -6  7\n",
      "4  8 -9\n"
     ]
    }
   ],
   "source": [
    "import pandas as pd\n",
    "import numpy as np\n",
    "\n",
    "\"\"\"\n",
    "用法说明，官方的用法说明比较简洁：\n",
    "where ：替换条件（condition）为Flase处的值\n",
    "mask ：替换条件（condition）为True处的值\n",
    "where(self, cond, other=nan, inplace=False,\n",
    "\t  axis=None, level=None, errors='' raise', try_cast=False)\n",
    "\n",
    "mask(self, cond, other=nan, inplace=False,\n",
    "\t  axis=None, level=None, errors='' raise', try_cast=False)\n",
    "\n",
    "\"\"\"\n",
    "\n",
    "df = pd.DataFrame(np.arange(10).reshape(-1,2),columns=['A','B'])\n",
    "#print(df)\n",
    "\"\"\"\n",
    "   A  B\n",
    "0  0  1\n",
    "1  2  3\n",
    "2  4  5\n",
    "3  6  7\n",
    "4  8  9\n",
    "\"\"\"\n",
    "def cond1(x):\n",
    "    return x % 3 == 0\n",
    "def mult3(x):\n",
    "    return x * 3\n",
    "dfwhere = df.where(cond1,mult3)\n",
    "#print(dfwhere)\n",
    "\n",
    "dfmask = df.mask(cond1,mult3)\n",
    "#print(dfmask)\n",
    "\n",
    "df1 = pd.DataFrame(np.arange(10).reshape(-1,2),columns=['A','B'])\n",
    "print(df1)\n",
    "\"\"\"\n",
    "       A      B\n",
    "0   True  False\n",
    "1  False   True\n",
    "2  False  False\n",
    "3   True  False\n",
    "4  False   True\n",
    "\"\"\"\n",
    "m = df1 % 3 == 0\n",
    "print(m)\n",
    "dfwhere = df1.where(m,-df)\n",
    "print(dfwhere)\n",
    "\"\"\"\n",
    "   A  B\n",
    "0  0 -1\n",
    "1 -2  3\n",
    "2 -4 -5\n",
    "3  6 -7\n",
    "4 -8  9\n",
    "\"\"\"\n",
    "dfmask = df1.mask(m,-df)\n",
    "print(dfmask)\n",
    "\"\"\"\n",
    "   A  B\n",
    "0  0  1\n",
    "1  2 -3\n",
    "2  4  5\n",
    "3 -6  7\n",
    "4  8 -9\n",
    "\"\"\"\n",
    "\n",
    "\n",
    "\n",
    "\n",
    "\n"
   ]
  },
  {
   "cell_type": "code",
   "execution_count": 1,
   "outputs": [],
   "source": [],
   "metadata": {
    "collapsed": false,
    "pycharm": {
     "name": "#%%\n"
    }
   }
  }
 ],
 "metadata": {
  "kernelspec": {
   "name": "pycharm-e8988106",
   "language": "python",
   "display_name": "PyCharm (PycharmProjects)"
  },
  "language_info": {
   "codemirror_mode": {
    "name": "ipython",
    "version": 2
   },
   "file_extension": ".py",
   "mimetype": "text/x-python",
   "name": "python",
   "nbconvert_exporter": "python",
   "pygments_lexer": "ipython2",
   "version": "2.7.6"
  }
 },
 "nbformat": 4,
 "nbformat_minor": 0
}